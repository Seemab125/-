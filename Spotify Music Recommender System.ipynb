{
 "cells": [
  {
   "cell_type": "markdown",
   "id": "1c2cbe35",
   "metadata": {},
   "source": [
    "# Spotify Music Recommender System"
   ]
  },
  {
   "cell_type": "markdown",
   "id": "f89f4267",
   "metadata": {},
   "source": [
    "### Read Dataset"
   ]
  },
  {
   "cell_type": "code",
   "execution_count": 69,
   "id": "a62c2f03",
   "metadata": {},
   "outputs": [],
   "source": [
    "import pandas as pd\n",
    "import numpy as np\n",
    "import matplotlib.pyplot as plt"
   ]
  },
  {
   "cell_type": "code",
   "execution_count": 70,
   "id": "f8808351",
   "metadata": {},
   "outputs": [],
   "source": [
    "df = pd.read_csv('spotify_millsongdata.csv')"
   ]
  },
  {
   "cell_type": "code",
   "execution_count": 71,
   "id": "b8e78378",
   "metadata": {},
   "outputs": [
    {
     "data": {
      "text/html": [
       "<div>\n",
       "<style scoped>\n",
       "    .dataframe tbody tr th:only-of-type {\n",
       "        vertical-align: middle;\n",
       "    }\n",
       "\n",
       "    .dataframe tbody tr th {\n",
       "        vertical-align: top;\n",
       "    }\n",
       "\n",
       "    .dataframe thead th {\n",
       "        text-align: right;\n",
       "    }\n",
       "</style>\n",
       "<table border=\"1\" class=\"dataframe\">\n",
       "  <thead>\n",
       "    <tr style=\"text-align: right;\">\n",
       "      <th></th>\n",
       "      <th>artist</th>\n",
       "      <th>song</th>\n",
       "      <th>link</th>\n",
       "      <th>text</th>\n",
       "    </tr>\n",
       "  </thead>\n",
       "  <tbody>\n",
       "    <tr>\n",
       "      <th>0</th>\n",
       "      <td>ABBA</td>\n",
       "      <td>Ahe's My Kind Of Girl</td>\n",
       "      <td>/a/abba/ahes+my+kind+of+girl_20598417.html</td>\n",
       "      <td>Look at her face, it's a wonderful face  \\r\\nA...</td>\n",
       "    </tr>\n",
       "    <tr>\n",
       "      <th>1</th>\n",
       "      <td>ABBA</td>\n",
       "      <td>Andante, Andante</td>\n",
       "      <td>/a/abba/andante+andante_20002708.html</td>\n",
       "      <td>Take it easy with me, please  \\r\\nTouch me gen...</td>\n",
       "    </tr>\n",
       "    <tr>\n",
       "      <th>2</th>\n",
       "      <td>ABBA</td>\n",
       "      <td>As Good As New</td>\n",
       "      <td>/a/abba/as+good+as+new_20003033.html</td>\n",
       "      <td>I'll never know why I had to go  \\r\\nWhy I had...</td>\n",
       "    </tr>\n",
       "    <tr>\n",
       "      <th>3</th>\n",
       "      <td>ABBA</td>\n",
       "      <td>Bang</td>\n",
       "      <td>/a/abba/bang_20598415.html</td>\n",
       "      <td>Making somebody happy is a question of give an...</td>\n",
       "    </tr>\n",
       "    <tr>\n",
       "      <th>4</th>\n",
       "      <td>ABBA</td>\n",
       "      <td>Bang-A-Boomerang</td>\n",
       "      <td>/a/abba/bang+a+boomerang_20002668.html</td>\n",
       "      <td>Making somebody happy is a question of give an...</td>\n",
       "    </tr>\n",
       "  </tbody>\n",
       "</table>\n",
       "</div>"
      ],
      "text/plain": [
       "  artist                   song                                        link  \\\n",
       "0   ABBA  Ahe's My Kind Of Girl  /a/abba/ahes+my+kind+of+girl_20598417.html   \n",
       "1   ABBA       Andante, Andante       /a/abba/andante+andante_20002708.html   \n",
       "2   ABBA         As Good As New        /a/abba/as+good+as+new_20003033.html   \n",
       "3   ABBA                   Bang                  /a/abba/bang_20598415.html   \n",
       "4   ABBA       Bang-A-Boomerang      /a/abba/bang+a+boomerang_20002668.html   \n",
       "\n",
       "                                                text  \n",
       "0  Look at her face, it's a wonderful face  \\r\\nA...  \n",
       "1  Take it easy with me, please  \\r\\nTouch me gen...  \n",
       "2  I'll never know why I had to go  \\r\\nWhy I had...  \n",
       "3  Making somebody happy is a question of give an...  \n",
       "4  Making somebody happy is a question of give an...  "
      ]
     },
     "execution_count": 71,
     "metadata": {},
     "output_type": "execute_result"
    }
   ],
   "source": [
    "df.head()"
   ]
  },
  {
   "cell_type": "code",
   "execution_count": 72,
   "id": "ec177fb7",
   "metadata": {},
   "outputs": [
    {
     "data": {
      "text/html": [
       "<div>\n",
       "<style scoped>\n",
       "    .dataframe tbody tr th:only-of-type {\n",
       "        vertical-align: middle;\n",
       "    }\n",
       "\n",
       "    .dataframe tbody tr th {\n",
       "        vertical-align: top;\n",
       "    }\n",
       "\n",
       "    .dataframe thead th {\n",
       "        text-align: right;\n",
       "    }\n",
       "</style>\n",
       "<table border=\"1\" class=\"dataframe\">\n",
       "  <thead>\n",
       "    <tr style=\"text-align: right;\">\n",
       "      <th></th>\n",
       "      <th>artist</th>\n",
       "      <th>song</th>\n",
       "      <th>link</th>\n",
       "      <th>text</th>\n",
       "    </tr>\n",
       "  </thead>\n",
       "  <tbody>\n",
       "    <tr>\n",
       "      <th>57645</th>\n",
       "      <td>Ziggy Marley</td>\n",
       "      <td>Good Old Days</td>\n",
       "      <td>/z/ziggy+marley/good+old+days_10198588.html</td>\n",
       "      <td>Irie days come on play  \\r\\nLet the angels fly...</td>\n",
       "    </tr>\n",
       "    <tr>\n",
       "      <th>57646</th>\n",
       "      <td>Ziggy Marley</td>\n",
       "      <td>Hand To Mouth</td>\n",
       "      <td>/z/ziggy+marley/hand+to+mouth_20531167.html</td>\n",
       "      <td>Power to the workers  \\r\\nMore power  \\r\\nPowe...</td>\n",
       "    </tr>\n",
       "    <tr>\n",
       "      <th>57647</th>\n",
       "      <td>Zwan</td>\n",
       "      <td>Come With Me</td>\n",
       "      <td>/z/zwan/come+with+me_20148981.html</td>\n",
       "      <td>all you need  \\r\\nis something i'll believe  \\...</td>\n",
       "    </tr>\n",
       "    <tr>\n",
       "      <th>57648</th>\n",
       "      <td>Zwan</td>\n",
       "      <td>Desire</td>\n",
       "      <td>/z/zwan/desire_20148986.html</td>\n",
       "      <td>northern star  \\r\\nam i frightened  \\r\\nwhere ...</td>\n",
       "    </tr>\n",
       "    <tr>\n",
       "      <th>57649</th>\n",
       "      <td>Zwan</td>\n",
       "      <td>Heartsong</td>\n",
       "      <td>/z/zwan/heartsong_20148991.html</td>\n",
       "      <td>come in  \\r\\nmake yourself at home  \\r\\ni'm a ...</td>\n",
       "    </tr>\n",
       "  </tbody>\n",
       "</table>\n",
       "</div>"
      ],
      "text/plain": [
       "             artist           song  \\\n",
       "57645  Ziggy Marley  Good Old Days   \n",
       "57646  Ziggy Marley  Hand To Mouth   \n",
       "57647          Zwan   Come With Me   \n",
       "57648          Zwan         Desire   \n",
       "57649          Zwan      Heartsong   \n",
       "\n",
       "                                              link  \\\n",
       "57645  /z/ziggy+marley/good+old+days_10198588.html   \n",
       "57646  /z/ziggy+marley/hand+to+mouth_20531167.html   \n",
       "57647           /z/zwan/come+with+me_20148981.html   \n",
       "57648                 /z/zwan/desire_20148986.html   \n",
       "57649              /z/zwan/heartsong_20148991.html   \n",
       "\n",
       "                                                    text  \n",
       "57645  Irie days come on play  \\r\\nLet the angels fly...  \n",
       "57646  Power to the workers  \\r\\nMore power  \\r\\nPowe...  \n",
       "57647  all you need  \\r\\nis something i'll believe  \\...  \n",
       "57648  northern star  \\r\\nam i frightened  \\r\\nwhere ...  \n",
       "57649  come in  \\r\\nmake yourself at home  \\r\\ni'm a ...  "
      ]
     },
     "execution_count": 72,
     "metadata": {},
     "output_type": "execute_result"
    }
   ],
   "source": [
    "df.tail()"
   ]
  },
  {
   "cell_type": "markdown",
   "id": "572a8686",
   "metadata": {},
   "source": [
    "### Dataset Details"
   ]
  },
  {
   "cell_type": "code",
   "execution_count": 73,
   "id": "2f89e236",
   "metadata": {},
   "outputs": [
    {
     "data": {
      "text/plain": [
       "(57650, 4)"
      ]
     },
     "execution_count": 73,
     "metadata": {},
     "output_type": "execute_result"
    }
   ],
   "source": [
    "df.shape"
   ]
  },
  {
   "cell_type": "code",
   "execution_count": 74,
   "id": "7f6a08ae",
   "metadata": {},
   "outputs": [
    {
     "data": {
      "text/plain": [
       "artist    0\n",
       "song      0\n",
       "link      0\n",
       "text      0\n",
       "dtype: int64"
      ]
     },
     "execution_count": 74,
     "metadata": {},
     "output_type": "execute_result"
    }
   ],
   "source": [
    "df.isna().sum()"
   ]
  },
  {
   "cell_type": "code",
   "execution_count": 75,
   "id": "fcb9dfc9",
   "metadata": {},
   "outputs": [
    {
     "data": {
      "text/plain": [
       "0"
      ]
     },
     "execution_count": 75,
     "metadata": {},
     "output_type": "execute_result"
    }
   ],
   "source": [
    "df.duplicated().sum()"
   ]
  },
  {
   "cell_type": "code",
   "execution_count": 76,
   "id": "74418640",
   "metadata": {},
   "outputs": [
    {
     "name": "stdout",
     "output_type": "stream",
     "text": [
      "<class 'pandas.core.frame.DataFrame'>\n",
      "RangeIndex: 57650 entries, 0 to 57649\n",
      "Data columns (total 4 columns):\n",
      " #   Column  Non-Null Count  Dtype \n",
      "---  ------  --------------  ----- \n",
      " 0   artist  57650 non-null  object\n",
      " 1   song    57650 non-null  object\n",
      " 2   link    57650 non-null  object\n",
      " 3   text    57650 non-null  object\n",
      "dtypes: object(4)\n",
      "memory usage: 1.8+ MB\n"
     ]
    }
   ],
   "source": [
    "df.info()"
   ]
  },
  {
   "cell_type": "code",
   "execution_count": 77,
   "id": "af350542",
   "metadata": {},
   "outputs": [
    {
     "data": {
      "text/html": [
       "<div>\n",
       "<style scoped>\n",
       "    .dataframe tbody tr th:only-of-type {\n",
       "        vertical-align: middle;\n",
       "    }\n",
       "\n",
       "    .dataframe tbody tr th {\n",
       "        vertical-align: top;\n",
       "    }\n",
       "\n",
       "    .dataframe thead th {\n",
       "        text-align: right;\n",
       "    }\n",
       "</style>\n",
       "<table border=\"1\" class=\"dataframe\">\n",
       "  <thead>\n",
       "    <tr style=\"text-align: right;\">\n",
       "      <th></th>\n",
       "      <th>artist</th>\n",
       "      <th>song</th>\n",
       "      <th>link</th>\n",
       "      <th>text</th>\n",
       "    </tr>\n",
       "  </thead>\n",
       "  <tbody>\n",
       "    <tr>\n",
       "      <th>count</th>\n",
       "      <td>57650</td>\n",
       "      <td>57650</td>\n",
       "      <td>57650</td>\n",
       "      <td>57650</td>\n",
       "    </tr>\n",
       "    <tr>\n",
       "      <th>unique</th>\n",
       "      <td>643</td>\n",
       "      <td>44824</td>\n",
       "      <td>57650</td>\n",
       "      <td>57494</td>\n",
       "    </tr>\n",
       "    <tr>\n",
       "      <th>top</th>\n",
       "      <td>Donna Summer</td>\n",
       "      <td>Have Yourself A Merry Little Christmas</td>\n",
       "      <td>/a/abba/ahes+my+kind+of+girl_20598417.html</td>\n",
       "      <td>I just came back from a lovely trip along the ...</td>\n",
       "    </tr>\n",
       "    <tr>\n",
       "      <th>freq</th>\n",
       "      <td>191</td>\n",
       "      <td>35</td>\n",
       "      <td>1</td>\n",
       "      <td>6</td>\n",
       "    </tr>\n",
       "  </tbody>\n",
       "</table>\n",
       "</div>"
      ],
      "text/plain": [
       "              artist                                    song  \\\n",
       "count          57650                                   57650   \n",
       "unique           643                                   44824   \n",
       "top     Donna Summer  Have Yourself A Merry Little Christmas   \n",
       "freq             191                                      35   \n",
       "\n",
       "                                              link  \\\n",
       "count                                        57650   \n",
       "unique                                       57650   \n",
       "top     /a/abba/ahes+my+kind+of+girl_20598417.html   \n",
       "freq                                             1   \n",
       "\n",
       "                                                     text  \n",
       "count                                               57650  \n",
       "unique                                              57494  \n",
       "top     I just came back from a lovely trip along the ...  \n",
       "freq                                                    6  "
      ]
     },
     "execution_count": 77,
     "metadata": {},
     "output_type": "execute_result"
    }
   ],
   "source": [
    "df.describe()"
   ]
  },
  {
   "cell_type": "markdown",
   "id": "d09b2a38",
   "metadata": {},
   "source": [
    "Dropped Link column froom our dataset as it wasnt necessary"
   ]
  },
  {
   "cell_type": "code",
   "execution_count": 78,
   "id": "271697b0",
   "metadata": {},
   "outputs": [],
   "source": [
    "df = df.sample(5000).drop('link', axis =1).reset_index(drop = True)"
   ]
  },
  {
   "cell_type": "code",
   "execution_count": 79,
   "id": "11d98a2c",
   "metadata": {},
   "outputs": [
    {
     "data": {
      "text/html": [
       "<div>\n",
       "<style scoped>\n",
       "    .dataframe tbody tr th:only-of-type {\n",
       "        vertical-align: middle;\n",
       "    }\n",
       "\n",
       "    .dataframe tbody tr th {\n",
       "        vertical-align: top;\n",
       "    }\n",
       "\n",
       "    .dataframe thead th {\n",
       "        text-align: right;\n",
       "    }\n",
       "</style>\n",
       "<table border=\"1\" class=\"dataframe\">\n",
       "  <thead>\n",
       "    <tr style=\"text-align: right;\">\n",
       "      <th></th>\n",
       "      <th>artist</th>\n",
       "      <th>song</th>\n",
       "      <th>text</th>\n",
       "    </tr>\n",
       "  </thead>\n",
       "  <tbody>\n",
       "    <tr>\n",
       "      <th>0</th>\n",
       "      <td>Kirk Franklin</td>\n",
       "      <td>Kingdom Come</td>\n",
       "      <td>I've been up I've been down been looking for s...</td>\n",
       "    </tr>\n",
       "    <tr>\n",
       "      <th>1</th>\n",
       "      <td>Leann Rimes</td>\n",
       "      <td>On The Side Of Angels</td>\n",
       "      <td>I've never been so certain,  \\r\\nI've never be...</td>\n",
       "    </tr>\n",
       "    <tr>\n",
       "      <th>2</th>\n",
       "      <td>Pat Benatar</td>\n",
       "      <td>Suburban King</td>\n",
       "      <td>The alarm clock rings but you don't move  \\r\\n...</td>\n",
       "    </tr>\n",
       "    <tr>\n",
       "      <th>3</th>\n",
       "      <td>Leonard Cohen</td>\n",
       "      <td>Hunter's Lullaby</td>\n",
       "      <td>Your father's gone a-hunting  \\r\\nHe's lost in...</td>\n",
       "    </tr>\n",
       "    <tr>\n",
       "      <th>4</th>\n",
       "      <td>Overkill</td>\n",
       "      <td>I'm Alright</td>\n",
       "      <td>Oh my God in blood soaked silhouette  \\r\\nOh m...</td>\n",
       "    </tr>\n",
       "  </tbody>\n",
       "</table>\n",
       "</div>"
      ],
      "text/plain": [
       "          artist                   song  \\\n",
       "0  Kirk Franklin           Kingdom Come   \n",
       "1    Leann Rimes  On The Side Of Angels   \n",
       "2    Pat Benatar          Suburban King   \n",
       "3  Leonard Cohen       Hunter's Lullaby   \n",
       "4       Overkill            I'm Alright   \n",
       "\n",
       "                                                text  \n",
       "0  I've been up I've been down been looking for s...  \n",
       "1  I've never been so certain,  \\r\\nI've never be...  \n",
       "2  The alarm clock rings but you don't move  \\r\\n...  \n",
       "3  Your father's gone a-hunting  \\r\\nHe's lost in...  \n",
       "4  Oh my God in blood soaked silhouette  \\r\\nOh m...  "
      ]
     },
     "execution_count": 79,
     "metadata": {},
     "output_type": "execute_result"
    }
   ],
   "source": [
    "df.head()"
   ]
  },
  {
   "cell_type": "code",
   "execution_count": 80,
   "id": "41172108",
   "metadata": {},
   "outputs": [
    {
     "data": {
      "text/plain": [
       "\"I've been up I've been down been looking for some joy to come around I've been  \\r\\nPraying for some sunshine been looking for a love that I can call mine. See\\r\\nI've  \\r\\nCried for so long now I'm ready for the tears to be gone so I'm calling you\\r\\nright  \\r\\nNow cause you said that I can make it Lord any how  \\r\\n  \\r\\nChorus: so I'm gonna wait (on you)  \\r\\nCause I know that your gonna pull (me through)  \\r\\nI hear you telling me to (be strong)  \\r\\nCause deliverance is coming and (it wont be long)  \\r\\nThe storm will pass (away)  \\r\\nI believe its gonna be (a brighter day)  \\r\\nI can finally see (the sun)  \\r\\nSo I'm waiting on you til (Thy kingdom come)  \\r\\n  \\r\\nThis world can be cold and I can feel te hurting in my soul but the pain it  \\r\\nWont last long cause I know its only here to make me strong just take it from  \\r\\nMe some day we're gonna be free we been waiting Lord for a night but the Lord  \\r\\nSaid its gonna be alright  \\r\\nChorus 2x  \\r\\n  \\r\\nJill schott yall  \\r\\nDa da dil din dal dali da din dbop be da dild  \\r\\n  \\r\\nChorus5x  \\r\\nOh oh oh oh oh oh oh oh oh oh  \\r\\nAll my people can you clap your hand if you love Him can you clap your hands  \\r\\nJill Schoot can you clap your hands New Nation can you clap your hands\\r\\n\\r\\n\""
      ]
     },
     "execution_count": 80,
     "metadata": {},
     "output_type": "execute_result"
    }
   ],
   "source": [
    "df['text'][0]"
   ]
  },
  {
   "cell_type": "code",
   "execution_count": 81,
   "id": "f467979a",
   "metadata": {},
   "outputs": [
    {
     "data": {
      "text/plain": [
       "(5000, 3)"
      ]
     },
     "execution_count": 81,
     "metadata": {},
     "output_type": "execute_result"
    }
   ],
   "source": [
    "\n",
    "df.shape"
   ]
  },
  {
   "cell_type": "code",
   "execution_count": 82,
   "id": "35583048",
   "metadata": {},
   "outputs": [
    {
     "data": {
      "text/html": [
       "<div>\n",
       "<style scoped>\n",
       "    .dataframe tbody tr th:only-of-type {\n",
       "        vertical-align: middle;\n",
       "    }\n",
       "\n",
       "    .dataframe tbody tr th {\n",
       "        vertical-align: top;\n",
       "    }\n",
       "\n",
       "    .dataframe thead th {\n",
       "        text-align: right;\n",
       "    }\n",
       "</style>\n",
       "<table border=\"1\" class=\"dataframe\">\n",
       "  <thead>\n",
       "    <tr style=\"text-align: right;\">\n",
       "      <th></th>\n",
       "      <th>artist</th>\n",
       "      <th>song</th>\n",
       "      <th>text</th>\n",
       "    </tr>\n",
       "  </thead>\n",
       "  <tbody>\n",
       "    <tr>\n",
       "      <th>0</th>\n",
       "      <td>Kirk Franklin</td>\n",
       "      <td>Kingdom Come</td>\n",
       "      <td>I've been up I've been down been looking for s...</td>\n",
       "    </tr>\n",
       "    <tr>\n",
       "      <th>1</th>\n",
       "      <td>Leann Rimes</td>\n",
       "      <td>On The Side Of Angels</td>\n",
       "      <td>I've never been so certain,  \\r\\nI've never be...</td>\n",
       "    </tr>\n",
       "    <tr>\n",
       "      <th>2</th>\n",
       "      <td>Pat Benatar</td>\n",
       "      <td>Suburban King</td>\n",
       "      <td>The alarm clock rings but you don't move  \\r\\n...</td>\n",
       "    </tr>\n",
       "    <tr>\n",
       "      <th>3</th>\n",
       "      <td>Leonard Cohen</td>\n",
       "      <td>Hunter's Lullaby</td>\n",
       "      <td>Your father's gone a-hunting  \\r\\nHe's lost in...</td>\n",
       "    </tr>\n",
       "    <tr>\n",
       "      <th>4</th>\n",
       "      <td>Overkill</td>\n",
       "      <td>I'm Alright</td>\n",
       "      <td>Oh my God in blood soaked silhouette  \\r\\nOh m...</td>\n",
       "    </tr>\n",
       "  </tbody>\n",
       "</table>\n",
       "</div>"
      ],
      "text/plain": [
       "          artist                   song  \\\n",
       "0  Kirk Franklin           Kingdom Come   \n",
       "1    Leann Rimes  On The Side Of Angels   \n",
       "2    Pat Benatar          Suburban King   \n",
       "3  Leonard Cohen       Hunter's Lullaby   \n",
       "4       Overkill            I'm Alright   \n",
       "\n",
       "                                                text  \n",
       "0  I've been up I've been down been looking for s...  \n",
       "1  I've never been so certain,  \\r\\nI've never be...  \n",
       "2  The alarm clock rings but you don't move  \\r\\n...  \n",
       "3  Your father's gone a-hunting  \\r\\nHe's lost in...  \n",
       "4  Oh my God in blood soaked silhouette  \\r\\nOh m...  "
      ]
     },
     "execution_count": 82,
     "metadata": {},
     "output_type": "execute_result"
    }
   ],
   "source": [
    "df.head()"
   ]
  },
  {
   "cell_type": "code",
   "execution_count": null,
   "id": "e3e9d9c8",
   "metadata": {},
   "outputs": [],
   "source": []
  },
  {
   "cell_type": "markdown",
   "id": "c7863d5d",
   "metadata": {},
   "source": [
    "##  Preprocessing"
   ]
  },
  {
   "cell_type": "markdown",
   "id": "b4455ebf",
   "metadata": {},
   "source": [
    "### Text Cleaniing"
   ]
  },
  {
   "cell_type": "markdown",
   "id": "0e4d3c13",
   "metadata": {},
   "source": [
    "Text cleaning is a critical step in preparing text data for analysis or modeling in NLP and text mining tasks. It involves several key techniques to ensure the text is in a usable format. First, we convert all text to lowercase to standardize word representations. Next, we break the text into smaller units called tokens through tokenization, aiding in word counting and analysis. Special characters, punctuation, and non-alphanumeric characters are removed to retain only meaningful content. Common but insignificant words (stopwords) are also eliminated. Words are further normalized using stemming or lemmatization to reduce variations. Numeric data handling, HTML tags, URLs, and spell checking are additional steps to clean the text. Finally, we ensure consistent text representation by cleaning whitespace and tokens. These techniques collectively improve text quality and enhance the accuracy of NLP and text mining tasks."
   ]
  },
  {
   "cell_type": "code",
   "execution_count": 83,
   "id": "a10e0982",
   "metadata": {},
   "outputs": [],
   "source": [
    "df['text'] = df['text'].str.lower().replace(r'^a-ZA-Z0-9', ' ').replace(r'\\n', ' ', regex = True)"
   ]
  },
  {
   "cell_type": "code",
   "execution_count": null,
   "id": "b377a1eb",
   "metadata": {},
   "outputs": [],
   "source": []
  },
  {
   "cell_type": "markdown",
   "id": "cde33de0",
   "metadata": {},
   "source": [
    "### Tokenization"
   ]
  },
  {
   "cell_type": "markdown",
   "id": "9f17986c",
   "metadata": {},
   "source": [
    "Tokenization is a fundamental process in natural language processing (NLP) that involves breaking down raw text into smaller units called tokens. These tokens can be words, sentences, or even individual characters, depending on the level of granularity needed for analysis. Tokenization is essential for various NLP tasks such as text classification, sentiment analysis, and machine translation. By dividing text into tokens, NLP systems can better understand and process language, enabling further analysis, feature extraction, and modeling on textual data."
   ]
  },
  {
   "cell_type": "code",
   "execution_count": 84,
   "id": "42a5b642",
   "metadata": {},
   "outputs": [],
   "source": [
    "# converting similar words into 1 word like beauty, beautiful and beatui"
   ]
  },
  {
   "cell_type": "code",
   "execution_count": 85,
   "id": "9a81ab6e",
   "metadata": {},
   "outputs": [],
   "source": [
    "## then convert this whiole textual data into vectors called vectorization"
   ]
  },
  {
   "cell_type": "code",
   "execution_count": 86,
   "id": "f2fbdf26",
   "metadata": {},
   "outputs": [],
   "source": [
    "## vectorization calculates the distance,"
   ]
  },
  {
   "cell_type": "code",
   "execution_count": 87,
   "id": "50ef43e9",
   "metadata": {},
   "outputs": [],
   "source": [
    "## not the eucladian distance"
   ]
  },
  {
   "cell_type": "code",
   "execution_count": 88,
   "id": "3ad3054a",
   "metadata": {},
   "outputs": [],
   "source": [
    "# but the angle of each datapoint"
   ]
  },
  {
   "cell_type": "markdown",
   "id": "8b42c902",
   "metadata": {},
   "source": [
    "### Content Based Filtering"
   ]
  },
  {
   "cell_type": "markdown",
   "id": "64d731b7",
   "metadata": {},
   "source": [
    "\n",
    "Content-Based Filtering is a recommendation system technique that suggests items to users based on the similarity between the items and the user's preferences. It analyzes the characteristics and features of items (such as movies, articles, or products) and compares them to the user's profile or past interactions. By understanding the content of items and user preferences, content-based filtering recommends items that are similar to those the user has liked or interacted with in the past. This approach is especially useful when there is sufficient information about the items' attributes or content, allowing the system to make personalized recommendations based on the user's interests and preferences."
   ]
  },
  {
   "cell_type": "code",
   "execution_count": 89,
   "id": "f99176a1",
   "metadata": {},
   "outputs": [
    {
     "name": "stderr",
     "output_type": "stream",
     "text": [
      "[nltk_data] Downloading package punkt to\n",
      "[nltk_data]     C:\\Users\\HP\\AppData\\Roaming\\nltk_data...\n",
      "[nltk_data]   Package punkt is already up-to-date!\n"
     ]
    },
    {
     "data": {
      "text/plain": [
       "True"
      ]
     },
     "execution_count": 89,
     "metadata": {},
     "output_type": "execute_result"
    }
   ],
   "source": [
    "import nltk\n",
    "nltk.download('punkt')"
   ]
  },
  {
   "cell_type": "code",
   "execution_count": 90,
   "id": "959b4cd8",
   "metadata": {},
   "outputs": [
    {
     "data": {
      "text/html": [
       "<div>\n",
       "<style scoped>\n",
       "    .dataframe tbody tr th:only-of-type {\n",
       "        vertical-align: middle;\n",
       "    }\n",
       "\n",
       "    .dataframe tbody tr th {\n",
       "        vertical-align: top;\n",
       "    }\n",
       "\n",
       "    .dataframe thead th {\n",
       "        text-align: right;\n",
       "    }\n",
       "</style>\n",
       "<table border=\"1\" class=\"dataframe\">\n",
       "  <thead>\n",
       "    <tr style=\"text-align: right;\">\n",
       "      <th></th>\n",
       "      <th>artist</th>\n",
       "      <th>song</th>\n",
       "      <th>text</th>\n",
       "    </tr>\n",
       "  </thead>\n",
       "  <tbody>\n",
       "    <tr>\n",
       "      <th>0</th>\n",
       "      <td>Kirk Franklin</td>\n",
       "      <td>Kingdom Come</td>\n",
       "      <td>i've been up i've been down been looking for s...</td>\n",
       "    </tr>\n",
       "    <tr>\n",
       "      <th>1</th>\n",
       "      <td>Leann Rimes</td>\n",
       "      <td>On The Side Of Angels</td>\n",
       "      <td>i've never been so certain,  \\r i've never bee...</td>\n",
       "    </tr>\n",
       "    <tr>\n",
       "      <th>2</th>\n",
       "      <td>Pat Benatar</td>\n",
       "      <td>Suburban King</td>\n",
       "      <td>the alarm clock rings but you don't move  \\r b...</td>\n",
       "    </tr>\n",
       "    <tr>\n",
       "      <th>3</th>\n",
       "      <td>Leonard Cohen</td>\n",
       "      <td>Hunter's Lullaby</td>\n",
       "      <td>your father's gone a-hunting  \\r he's lost in ...</td>\n",
       "    </tr>\n",
       "    <tr>\n",
       "      <th>4</th>\n",
       "      <td>Overkill</td>\n",
       "      <td>I'm Alright</td>\n",
       "      <td>oh my god in blood soaked silhouette  \\r oh my...</td>\n",
       "    </tr>\n",
       "  </tbody>\n",
       "</table>\n",
       "</div>"
      ],
      "text/plain": [
       "          artist                   song  \\\n",
       "0  Kirk Franklin           Kingdom Come   \n",
       "1    Leann Rimes  On The Side Of Angels   \n",
       "2    Pat Benatar          Suburban King   \n",
       "3  Leonard Cohen       Hunter's Lullaby   \n",
       "4       Overkill            I'm Alright   \n",
       "\n",
       "                                                text  \n",
       "0  i've been up i've been down been looking for s...  \n",
       "1  i've never been so certain,  \\r i've never bee...  \n",
       "2  the alarm clock rings but you don't move  \\r b...  \n",
       "3  your father's gone a-hunting  \\r he's lost in ...  \n",
       "4  oh my god in blood soaked silhouette  \\r oh my...  "
      ]
     },
     "execution_count": 90,
     "metadata": {},
     "output_type": "execute_result"
    }
   ],
   "source": [
    "df.head()"
   ]
  },
  {
   "cell_type": "code",
   "execution_count": 107,
   "id": "48441f87",
   "metadata": {},
   "outputs": [
    {
     "data": {
      "text/html": [
       "<div>\n",
       "<style scoped>\n",
       "    .dataframe tbody tr th:only-of-type {\n",
       "        vertical-align: middle;\n",
       "    }\n",
       "\n",
       "    .dataframe tbody tr th {\n",
       "        vertical-align: top;\n",
       "    }\n",
       "\n",
       "    .dataframe thead th {\n",
       "        text-align: right;\n",
       "    }\n",
       "</style>\n",
       "<table border=\"1\" class=\"dataframe\">\n",
       "  <thead>\n",
       "    <tr style=\"text-align: right;\">\n",
       "      <th></th>\n",
       "      <th>artist</th>\n",
       "      <th>song</th>\n",
       "      <th>text</th>\n",
       "    </tr>\n",
       "  </thead>\n",
       "  <tbody>\n",
       "    <tr>\n",
       "      <th>4995</th>\n",
       "      <td>Nazareth</td>\n",
       "      <td>Road Ladies</td>\n",
       "      <td>by: frank zappa as performed by nazareth  \\r s...</td>\n",
       "    </tr>\n",
       "    <tr>\n",
       "      <th>4996</th>\n",
       "      <td>Janis Joplin</td>\n",
       "      <td>Kozmic Blues</td>\n",
       "      <td>time keeps moving on,  \\r friends they turn aw...</td>\n",
       "    </tr>\n",
       "    <tr>\n",
       "      <th>4997</th>\n",
       "      <td>Tragically Hip</td>\n",
       "      <td>Last American Exit</td>\n",
       "      <td>you know the reasons i can't conceal you kow i...</td>\n",
       "    </tr>\n",
       "    <tr>\n",
       "      <th>4998</th>\n",
       "      <td>Johnny Cash</td>\n",
       "      <td>Gentle On My Mind</td>\n",
       "      <td>well, it's knowin' that your door is always op...</td>\n",
       "    </tr>\n",
       "    <tr>\n",
       "      <th>4999</th>\n",
       "      <td>Bonnie Raitt</td>\n",
       "      <td>Pleasin' Each Other</td>\n",
       "      <td>you remind me, you remind me  \\r that it's a t...</td>\n",
       "    </tr>\n",
       "  </tbody>\n",
       "</table>\n",
       "</div>"
      ],
      "text/plain": [
       "              artist                 song  \\\n",
       "4995        Nazareth          Road Ladies   \n",
       "4996    Janis Joplin         Kozmic Blues   \n",
       "4997  Tragically Hip   Last American Exit   \n",
       "4998     Johnny Cash    Gentle On My Mind   \n",
       "4999    Bonnie Raitt  Pleasin' Each Other   \n",
       "\n",
       "                                                   text  \n",
       "4995  by: frank zappa as performed by nazareth  \\r s...  \n",
       "4996  time keeps moving on,  \\r friends they turn aw...  \n",
       "4997  you know the reasons i can't conceal you kow i...  \n",
       "4998  well, it's knowin' that your door is always op...  \n",
       "4999  you remind me, you remind me  \\r that it's a t...  "
      ]
     },
     "execution_count": 107,
     "metadata": {},
     "output_type": "execute_result"
    }
   ],
   "source": [
    "df.tail()"
   ]
  },
  {
   "cell_type": "code",
   "execution_count": 92,
   "id": "7176b1c4",
   "metadata": {},
   "outputs": [],
   "source": [
    "import nltk\n",
    "from nltk.stem.porter import PorterStemmer"
   ]
  },
  {
   "cell_type": "code",
   "execution_count": 93,
   "id": "3637a0da",
   "metadata": {},
   "outputs": [],
   "source": [
    "stemmer = PorterStemmer()"
   ]
  },
  {
   "cell_type": "code",
   "execution_count": 94,
   "id": "7efcd656",
   "metadata": {},
   "outputs": [],
   "source": [
    "def token(txt):\n",
    "    token = nltk.word_tokenize(txt)\n",
    "    a = [stemmer.stem(w) for w in token]\n",
    "    return \" \".join(a)"
   ]
  },
  {
   "cell_type": "code",
   "execution_count": 95,
   "id": "bb20736a",
   "metadata": {},
   "outputs": [
    {
     "data": {
      "text/plain": [
       "'you are beauti'"
      ]
     },
     "execution_count": 95,
     "metadata": {},
     "output_type": "execute_result"
    }
   ],
   "source": [
    "token(\"you are beautiful\")"
   ]
  },
  {
   "cell_type": "code",
   "execution_count": 96,
   "id": "929c3a19",
   "metadata": {},
   "outputs": [],
   "source": [
    "## creatting a lambda function to use this token in whole dataset"
   ]
  },
  {
   "cell_type": "code",
   "execution_count": 97,
   "id": "d689da49",
   "metadata": {},
   "outputs": [
    {
     "data": {
      "text/plain": [
       "0       i 've been up i 've been down been look for so...\n",
       "1       i 've never been so certain , i 've never been...\n",
       "2       the alarm clock ring but you do n't move but t...\n",
       "3       your father 's gone a-hunt he 's lost in the f...\n",
       "4       oh my god in blood soak silhouett oh my god on...\n",
       "                              ...                        \n",
       "4995    by : frank zappa as perform by nazareth said ,...\n",
       "4996    time keep move on , friend they turn away , we...\n",
       "4997    you know the reason i ca n't conceal you kow i...\n",
       "4998    well , it 's knowin ' that your door is alway ...\n",
       "4999    you remind me , you remind me that it 's a tri...\n",
       "Name: text, Length: 5000, dtype: object"
      ]
     },
     "execution_count": 97,
     "metadata": {},
     "output_type": "execute_result"
    }
   ],
   "source": [
    "df['text'].apply(lambda x: token(x))"
   ]
  },
  {
   "cell_type": "markdown",
   "id": "c7c18105",
   "metadata": {},
   "source": [
    "### Vectorization"
   ]
  },
  {
   "cell_type": "markdown",
   "id": "79703a29",
   "metadata": {},
   "source": [
    "Vectorization is the process of converting data into numerical vectors or arrays, making it suitable for machine learning and data analysis tasks. In NLP, it transforms text into numerical representations, while in image processing, it converts images into numerical arrays of pixel values. This conversion enables efficient handling and analysis of data by machine learning algorithms."
   ]
  },
  {
   "cell_type": "code",
   "execution_count": 98,
   "id": "21f9917f",
   "metadata": {},
   "outputs": [],
   "source": [
    "from sklearn.feature_extraction.text import TfidfVectorizer\n",
    "from sklearn.metrics.pairwise import cosine_similarity"
   ]
  },
  {
   "cell_type": "code",
   "execution_count": 99,
   "id": "1ac6129c",
   "metadata": {},
   "outputs": [
    {
     "data": {
      "text/plain": [
       "0       i've been up i've been down been looking for s...\n",
       "1       i've never been so certain,  \\r i've never bee...\n",
       "2       the alarm clock rings but you don't move  \\r b...\n",
       "3       your father's gone a-hunting  \\r he's lost in ...\n",
       "4       oh my god in blood soaked silhouette  \\r oh my...\n",
       "                              ...                        \n",
       "4995    by: frank zappa as performed by nazareth  \\r s...\n",
       "4996    time keeps moving on,  \\r friends they turn aw...\n",
       "4997    you know the reasons i can't conceal you kow i...\n",
       "4998    well, it's knowin' that your door is always op...\n",
       "4999    you remind me, you remind me  \\r that it's a t...\n",
       "Name: text, Length: 5000, dtype: object"
      ]
     },
     "execution_count": 99,
     "metadata": {},
     "output_type": "execute_result"
    }
   ],
   "source": [
    "df['text']"
   ]
  },
  {
   "cell_type": "code",
   "execution_count": 110,
   "id": "79452ed9",
   "metadata": {},
   "outputs": [],
   "source": [
    "tfid = TfidfVectorizer(analyzer = 'word', stop_words = 'english')"
   ]
  },
  {
   "cell_type": "code",
   "execution_count": 111,
   "id": "52fc7eb6",
   "metadata": {},
   "outputs": [],
   "source": [
    "matrix = tfid.fit_transform(df['text'])"
   ]
  },
  {
   "cell_type": "code",
   "execution_count": 112,
   "id": "891ccb91",
   "metadata": {},
   "outputs": [
    {
     "data": {
      "text/plain": [
       "<5000x23992 sparse matrix of type '<class 'numpy.float64'>'\n",
       "\twith 271247 stored elements in Compressed Sparse Row format>"
      ]
     },
     "execution_count": 112,
     "metadata": {},
     "output_type": "execute_result"
    }
   ],
   "source": [
    "matrix"
   ]
  },
  {
   "cell_type": "code",
   "execution_count": 113,
   "id": "7389a71c",
   "metadata": {},
   "outputs": [],
   "source": [
    "similar = cosine_similarity(matrix)"
   ]
  },
  {
   "cell_type": "code",
   "execution_count": 114,
   "id": "2035592c",
   "metadata": {},
   "outputs": [
    {
     "data": {
      "text/plain": [
       "array([1.        , 0.06055849, 0.01789536, ..., 0.07300922, 0.03580611,\n",
       "       0.03418979])"
      ]
     },
     "execution_count": 114,
     "metadata": {},
     "output_type": "execute_result"
    }
   ],
   "source": [
    "similar[0]"
   ]
  },
  {
   "cell_type": "code",
   "execution_count": 116,
   "id": "55ec4ace",
   "metadata": {},
   "outputs": [
    {
     "data": {
      "text/html": [
       "<div>\n",
       "<style scoped>\n",
       "    .dataframe tbody tr th:only-of-type {\n",
       "        vertical-align: middle;\n",
       "    }\n",
       "\n",
       "    .dataframe tbody tr th {\n",
       "        vertical-align: top;\n",
       "    }\n",
       "\n",
       "    .dataframe thead th {\n",
       "        text-align: right;\n",
       "    }\n",
       "</style>\n",
       "<table border=\"1\" class=\"dataframe\">\n",
       "  <thead>\n",
       "    <tr style=\"text-align: right;\">\n",
       "      <th></th>\n",
       "      <th>artist</th>\n",
       "      <th>song</th>\n",
       "      <th>text</th>\n",
       "    </tr>\n",
       "  </thead>\n",
       "  <tbody>\n",
       "    <tr>\n",
       "      <th>4997</th>\n",
       "      <td>Tragically Hip</td>\n",
       "      <td>Last American Exit</td>\n",
       "      <td>you know the reasons i can't conceal you kow i...</td>\n",
       "    </tr>\n",
       "  </tbody>\n",
       "</table>\n",
       "</div>"
      ],
      "text/plain": [
       "              artist                song  \\\n",
       "4997  Tragically Hip  Last American Exit   \n",
       "\n",
       "                                                   text  \n",
       "4997  you know the reasons i can't conceal you kow i...  "
      ]
     },
     "execution_count": 116,
     "metadata": {},
     "output_type": "execute_result"
    }
   ],
   "source": [
    "df[df['song']=='Last American Exit']"
   ]
  },
  {
   "cell_type": "code",
   "execution_count": 117,
   "id": "158d8751",
   "metadata": {},
   "outputs": [
    {
     "data": {
      "text/plain": [
       "4997"
      ]
     },
     "execution_count": 117,
     "metadata": {},
     "output_type": "execute_result"
    }
   ],
   "source": [
    "df[df['song']=='Last American Exit'].index[0]"
   ]
  },
  {
   "cell_type": "markdown",
   "id": "d51887c5",
   "metadata": {},
   "source": [
    "### Recommender Funcation "
   ]
  },
  {
   "cell_type": "code",
   "execution_count": 118,
   "id": "8d99a189",
   "metadata": {},
   "outputs": [],
   "source": [
    "def recommender (song_name):\n",
    "    idx = df[df['song']==song_name].index[0]\n",
    "    distance = sorted(list(enumerate(similar[idx])), reverse=True, key=lambda x:x[1])\n",
    "    song = []\n",
    "    for s_id in distance[1:5]:\n",
    "        song.append(df.iloc[s_id[0]].song)\n",
    "    return song"
   ]
  },
  {
   "cell_type": "code",
   "execution_count": 119,
   "id": "d6155df2",
   "metadata": {},
   "outputs": [
    {
     "data": {
      "text/plain": [
       "['Do You Know?', 'I Know Better', 'Poker', 'I Will Be There']"
      ]
     },
     "execution_count": 119,
     "metadata": {},
     "output_type": "execute_result"
    }
   ],
   "source": [
    "recommender(\"Last American Exit\")"
   ]
  },
  {
   "cell_type": "code",
   "execution_count": 120,
   "id": "3a1a88ea",
   "metadata": {},
   "outputs": [],
   "source": [
    "import pickle"
   ]
  },
  {
   "cell_type": "code",
   "execution_count": 121,
   "id": "46ea317f",
   "metadata": {},
   "outputs": [],
   "source": [
    "pickle.dump(similar, open(\"similarity.pkl\", \"wb\"))"
   ]
  },
  {
   "cell_type": "code",
   "execution_count": 122,
   "id": "9cc852fa",
   "metadata": {},
   "outputs": [],
   "source": [
    "pickle.dump(df, open(\"df.pkl\", \"wb\"))"
   ]
  },
  {
   "cell_type": "code",
   "execution_count": null,
   "id": "e9cda30a",
   "metadata": {},
   "outputs": [],
   "source": []
  }
 ],
 "metadata": {
  "kernelspec": {
   "display_name": "Python 3 (ipykernel)",
   "language": "python",
   "name": "python3"
  },
  "language_info": {
   "codemirror_mode": {
    "name": "ipython",
    "version": 3
   },
   "file_extension": ".py",
   "mimetype": "text/x-python",
   "name": "python",
   "nbconvert_exporter": "python",
   "pygments_lexer": "ipython3",
   "version": "3.10.9"
  }
 },
 "nbformat": 4,
 "nbformat_minor": 5
}
